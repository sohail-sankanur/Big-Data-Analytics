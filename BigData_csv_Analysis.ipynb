{
 "cells": [
  {
   "cell_type": "markdown",
   "metadata": {},
   "source": [
    "# Part B: Analysing CSV Data"
   ]
  },
  {
   "cell_type": "markdown",
   "metadata": {},
   "source": [
    "In this part of the assignment we have been give a csv file which contains crime data of South Australia. The dataset contains incidents of crime and the suburb based crime stats for crimes against people and crime against property than occured in South Australis since 2010."
   ]
  },
  {
   "cell_type": "code",
   "execution_count": 1,
   "metadata": {},
   "outputs": [],
   "source": [
    "from datetime import datetime\n",
    "from pyspark.sql.functions import col, udf\n",
    "from pyspark.sql.types import DateType\n",
    "import os\n",
    "from pyspark.sql.functions import year, month, dayofweek\n",
    "from pyspark.sql.functions import mean, min, max, stddev, count"
   ]
  },
  {
   "cell_type": "markdown",
   "metadata": {},
   "source": [
    "## Step1: Initialising Spark"
   ]
  },
  {
   "cell_type": "markdown",
   "metadata": {},
   "source": [
    "Our first task in this part of the assignment is to initialise Spark and configure it. We start a spark session and connect it to the MongoDB database. The MongoDB database is running locally on our machine hence we specify the IP adress of local host followed by the database name and the collection name."
   ]
  },
  {
   "cell_type": "code",
   "execution_count": 2,
   "metadata": {},
   "outputs": [],
   "source": [
    "os.environ['PYSPARK_SUBMIT_ARGS'] = '--packages org.mongodb.spark:mongo-spark-connector_2.11:2.4.0 pyspark-shell'\n",
    "# create entry points to spark\n",
    "from pyspark import SparkContext # Spark\n",
    "from pyspark.sql import SparkSession # Spark SQL\n",
    "\n",
    "# We add this line to avoid an error : \"Cannot run multiple SparkContexts at once\". \n",
    "# If there is an existing spark context, we will reuse it instead of creating a new context.\n",
    "sc = SparkContext.getOrCreate()\n",
    "\n",
    "# local[*]: run Spark locally with as many working processors as logical cores on your machine.\n",
    "# In the field of `master`, we use a local server with as many working processors (or threads) as possible (i.e. `local[*]`). \n",
    "# If we want Spark to run locally with 'k' worker threads, we can specify as `local[k]`.\n",
    "# The `appName` field is a name to be shown on the Sparking cluster UI. \n",
    "\n",
    "# If there is no existing spark context, we now create a new context\n",
    "if (sc is None):\n",
    "    sc = SparkContext(master=\"local[*]\")\n",
    "my_spark = SparkSession(sparkContext=sc)\\\n",
    "    .builder \\\n",
    "    .appName(\"Assignment1-PartB\") \\\n",
    "    .config(\"spark.mongodb.input.uri\", \"mongodb://127.0.0.1/Assignment1PartB.crime_stats\") \\\n",
    "    .config(\"spark.mongodb.output.uri\", \"mongodb://127.0.0.1/Assignment1PartB.crime_stats\") \\\n",
    "    .getOrCreate()\n"
   ]
  },
  {
   "cell_type": "markdown",
   "metadata": {},
   "source": [
    "## Step2: Creating a Dataframe "
   ]
  },
  {
   "cell_type": "markdown",
   "metadata": {},
   "source": [
    "In this step we create a dataframe of the csv file data which is given to us. We can read the data from the csv file as a dataframe using pyspark. As seen we specify header as True which means that the first row of the data would be taken as a heading for all the columns in the dataframe"
   ]
  },
  {
   "cell_type": "code",
   "execution_count": 3,
   "metadata": {},
   "outputs": [],
   "source": [
    "crime_stats = my_spark.read.csv(\"Crime_Statistics_SA_2010_present.csv\", header=True, inferSchema=True)"
   ]
  },
  {
   "cell_type": "code",
   "execution_count": 4,
   "metadata": {},
   "outputs": [
    {
     "name": "stdout",
     "output_type": "stream",
     "text": [
      "+-------------+-----------------+-------------------+---------------------------+---------------------------+---------------------------+-------------+\n",
      "|Reported Date|Suburb - Incident|Postcode - Incident|Offence Level 1 Description|Offence Level 2 Description|Offence Level 3 Description|Offence Count|\n",
      "+-------------+-----------------+-------------------+---------------------------+---------------------------+---------------------------+-------------+\n",
      "|    1/07/2010|         ADELAIDE|               5000|       OFFENCES AGAINST ...|       FRAUD DECEPTION A...|       Obtain benefit by...|            2|\n",
      "|    1/07/2010|         ADELAIDE|               5000|       OFFENCES AGAINST ...|       PROPERTY DAMAGE A...|       Other property da...|            2|\n",
      "|    1/07/2010|         ADELAIDE|               5000|       OFFENCES AGAINST ...|       SERIOUS CRIMINAL ...|        SCT - Non Residence|            1|\n",
      "|    1/07/2010|         ADELAIDE|               5000|       OFFENCES AGAINST ...|       THEFT AND RELATED...|                Other theft|            6|\n",
      "|    1/07/2010|         ADELAIDE|               5000|       OFFENCES AGAINST ...|       THEFT AND RELATED...|            Theft from shop|            3|\n",
      "+-------------+-----------------+-------------------+---------------------------+---------------------------+---------------------------+-------------+\n",
      "only showing top 5 rows\n",
      "\n"
     ]
    }
   ],
   "source": [
    "crime_stats.show(5)"
   ]
  },
  {
   "cell_type": "markdown",
   "metadata": {},
   "source": [
    "Now that we have created the pyspark dataframe our next task would be to find the number of records which is there in the dataframe."
   ]
  },
  {
   "cell_type": "code",
   "execution_count": 5,
   "metadata": {},
   "outputs": [
    {
     "name": "stdout",
     "output_type": "stream",
     "text": [
      "the number of rows in the dataframe are:  727408\n"
     ]
    }
   ],
   "source": [
    "print(\"the number of rows in the dataframe are: \",crime_stats.count())"
   ]
  },
  {
   "cell_type": "markdown",
   "metadata": {},
   "source": [
    "## Step3: Writing data to mongoDB database"
   ]
  },
  {
   "cell_type": "markdown",
   "metadata": {},
   "source": [
    "In this step as specified in the assignment specification we would be using MongoDB as the data source. Now we have to write all the records of the pyspark dataframe which we have created to the MongoDB database. This can be done using standard pyspark methods. As specified in the assignment we use ***overwrite*** mode when we are inserting the data."
   ]
  },
  {
   "cell_type": "code",
   "execution_count": 6,
   "metadata": {},
   "outputs": [],
   "source": [
    "crime_stats.write.format(\"com.mongodb.spark.sql.DefaultSource\").mode(\"overwrite\").save()\n"
   ]
  },
  {
   "cell_type": "markdown",
   "metadata": {},
   "source": [
    "## Step4: Reading mongo DB data "
   ]
  },
  {
   "cell_type": "markdown",
   "metadata": {},
   "source": [
    "Now in this step we read the data from the MongoDB database. We read the collection from MongoDB database and create a dataframe of it."
   ]
  },
  {
   "cell_type": "code",
   "execution_count": 7,
   "metadata": {},
   "outputs": [],
   "source": [
    "df = my_spark.read.format(\"com.mongodb.spark.sql.DefaultSource\").option(\"uri\",\n",
    "\"mongodb://127.0.0.1/Assignment1PartB.crime_stats\").load()"
   ]
  },
  {
   "cell_type": "markdown",
   "metadata": {},
   "source": [
    "As seen from the code we can see that we read the collection named crime_stats from the Assignment1PartB database and store it in a variable named df. Thus df is the required dataframe which we will be using from this step onwards."
   ]
  },
  {
   "cell_type": "code",
   "execution_count": 8,
   "metadata": {},
   "outputs": [
    {
     "name": "stdout",
     "output_type": "stream",
     "text": [
      "+-------------+---------------------------+---------------------------+---------------------------+-------------------+-------------+-----------------+--------------------+\n",
      "|Offence Count|Offence Level 1 Description|Offence Level 2 Description|Offence Level 3 Description|Postcode - Incident|Reported Date|Suburb - Incident|                 _id|\n",
      "+-------------+---------------------------+---------------------------+---------------------------+-------------------+-------------+-----------------+--------------------+\n",
      "|            1|       OFFENCES AGAINST ...|       THEFT AND RELATED...|            Theft from shop|               5169|   15/05/2012|          SEAFORD|[5d725e9350f59766...|\n",
      "|            1|       OFFENCES AGAINST ...|       ROBBERY AND RELAT...|         Aggravated robbery|               5023|   15/05/2012|           SEATON|[5d725e9350f59766...|\n",
      "|            1|       OFFENCES AGAINST ...|       THEFT AND RELATED...|            Theft from shop|               5019|   15/05/2012|        SEMAPHORE|[5d725e9350f59766...|\n",
      "|            1|       OFFENCES AGAINST ...|       ACTS INTENDED TO ...|             Assault Police|               5019|   15/05/2012|   SEMAPHORE PARK|[5d725e9350f59766...|\n",
      "|            1|       OFFENCES AGAINST ...|       SEXUAL ASSAULT AN...|       Aggravated sexual...|               5019|   15/05/2012|   SEMAPHORE PARK|[5d725e9350f59766...|\n",
      "+-------------+---------------------------+---------------------------+---------------------------+-------------------+-------------+-----------------+--------------------+\n",
      "only showing top 5 rows\n",
      "\n"
     ]
    }
   ],
   "source": [
    "df.show(5)"
   ]
  },
  {
   "cell_type": "markdown",
   "metadata": {},
   "source": [
    "## Step5: Calculate the statistics of numeric and string columns"
   ]
  },
  {
   "cell_type": "markdown",
   "metadata": {},
   "source": [
    "Now we need to calculate the statistics of two columns namely \"Offence Count\" and \"Reported Date\". We can find the statistics of any pyspark dataframe column using the describe method."
   ]
  },
  {
   "cell_type": "markdown",
   "metadata": {},
   "source": [
    "### Statistics of Offence Count column:"
   ]
  },
  {
   "cell_type": "markdown",
   "metadata": {},
   "source": [
    "We now calculate the mean, minimum, maximum, standard deviation and count of the Offence Count column. this can be done using two methods."
   ]
  },
  {
   "cell_type": "code",
   "execution_count": 9,
   "metadata": {},
   "outputs": [
    {
     "data": {
      "text/plain": [
       "[('Offence Count', 'int'),\n",
       " ('Offence Level 1 Description', 'string'),\n",
       " ('Offence Level 2 Description', 'string'),\n",
       " ('Offence Level 3 Description', 'string'),\n",
       " ('Postcode - Incident', 'string'),\n",
       " ('Reported Date', 'string'),\n",
       " ('Suburb - Incident', 'string'),\n",
       " ('_id', 'struct<oid:string>')]"
      ]
     },
     "execution_count": 9,
     "metadata": {},
     "output_type": "execute_result"
    }
   ],
   "source": [
    "df.dtypes"
   ]
  },
  {
   "cell_type": "markdown",
   "metadata": {},
   "source": [
    "To find the statistics values for the Offence Count column we have to have it in float or int format. Thus the first step we do is to convert the Offence Count column to float format. We also drop all the rows with null values in the dataframe."
   ]
  },
  {
   "cell_type": "markdown",
   "metadata": {},
   "source": [
    "***In the first method we find the statistics values by using the standard pyspark sql functions.***"
   ]
  },
  {
   "cell_type": "code",
   "execution_count": 10,
   "metadata": {},
   "outputs": [],
   "source": [
    "df_ofc = df.dropna().withColumn(\"Offence Count\",df[\"Offence Count\"].cast('float'))"
   ]
  },
  {
   "cell_type": "code",
   "execution_count": 11,
   "metadata": {},
   "outputs": [],
   "source": [
    "result = df_ofc.select([mean(\"Offence Count\"), \n",
    "                        min(\"Offence Count\"), \n",
    "                        max(\"Offence Count\"), \n",
    "                        stddev(\"Offence Count\"), \n",
    "                        count(\"Offence Count\")])"
   ]
  },
  {
   "cell_type": "code",
   "execution_count": 12,
   "metadata": {},
   "outputs": [
    {
     "name": "stdout",
     "output_type": "stream",
     "text": [
      "The statistics values for Offence Count is as follows:\n",
      "+------------------+------------------+------------------+--------------------------+--------------------+\n",
      "|avg(Offence Count)|min(Offence Count)|max(Offence Count)|stddev_samp(Offence Count)|count(Offence Count)|\n",
      "+------------------+------------------+------------------+--------------------------+--------------------+\n",
      "| 1.171599114621809|               1.0|              28.0|         0.578848526499556|              726921|\n",
      "+------------------+------------------+------------------+--------------------------+--------------------+\n",
      "\n"
     ]
    }
   ],
   "source": [
    "print(\"The statistics values for Offence Count is as follows:\")\n",
    "result.show()"
   ]
  },
  {
   "cell_type": "markdown",
   "metadata": {},
   "source": [
    "***The statistics values can also be found using the describe method which is a standard pyspark library method. Thus the statistics values of Offence Count using the describe method is as follows:***"
   ]
  },
  {
   "cell_type": "code",
   "execution_count": 13,
   "metadata": {},
   "outputs": [
    {
     "name": "stdout",
     "output_type": "stream",
     "text": [
      "Statistics values of Offence Count column using describe method: \n",
      "+-------+-----------------+\n",
      "|summary|    Offence Count|\n",
      "+-------+-----------------+\n",
      "|  count|           726921|\n",
      "|   mean|1.171599114621809|\n",
      "| stddev|0.578848526499553|\n",
      "|    min|              1.0|\n",
      "|    max|             28.0|\n",
      "+-------+-----------------+\n",
      "\n"
     ]
    }
   ],
   "source": [
    "print(\"Statistics values of Offence Count column using describe method: \")\n",
    "df_ofc.describe('Offence Count').show()"
   ]
  },
  {
   "cell_type": "markdown",
   "metadata": {},
   "source": [
    "### Statistics of Reported Date column"
   ]
  },
  {
   "cell_type": "markdown",
   "metadata": {},
   "source": [
    "Now we have to find the statistics of the Reported Date column. We can do this using the describe method."
   ]
  },
  {
   "cell_type": "markdown",
   "metadata": {},
   "source": [
    "Also we drop the values which are null values date as they result in faulty values of statistics values."
   ]
  },
  {
   "cell_type": "code",
   "execution_count": 14,
   "metadata": {},
   "outputs": [
    {
     "name": "stdout",
     "output_type": "stream",
     "text": [
      "Stats value of Reported Date found without changing the Dataframe is: \n",
      "+-------+-------------+\n",
      "|summary|Reported Date|\n",
      "+-------+-------------+\n",
      "|  count|       726921|\n",
      "|   mean|         null|\n",
      "| stddev|         null|\n",
      "|    min|    1/01/2011|\n",
      "|    max|    9/12/2018|\n",
      "+-------+-------------+\n",
      "\n"
     ]
    }
   ],
   "source": [
    "print(\"Stats value of Reported Date found without changing the Dataframe is: \")\n",
    "df.dropna().describe(\"Reported Date\").show()"
   ]
  },
  {
   "cell_type": "markdown",
   "metadata": {},
   "source": [
    "***The above min and max values of Date is wrong***"
   ]
  },
  {
   "cell_type": "markdown",
   "metadata": {},
   "source": [
    "***The Reported date in the df column is of type string. Also it is in format \"dd/mm/yyyy\" thus it is highly likely that there could be an error in finding the minimum and maximum date.*** Consider a case where we have a date value as \"1/12/2019\" and another date as \"23/2/1995\" here the second date would be considered as greater than the first date however this is not true. Hence one way which we can do to obtain the correct dates is swapping the year and day. ***Thus the date would be in \"yyyy/mm/dd\" format and produce correct results.***"
   ]
  },
  {
   "cell_type": "code",
   "execution_count": 15,
   "metadata": {},
   "outputs": [
    {
     "data": {
      "text/plain": [
       "True"
      ]
     },
     "execution_count": 15,
     "metadata": {},
     "output_type": "execute_result"
    }
   ],
   "source": [
    "\"1/12/2019\" < \"23/2/1995\""
   ]
  },
  {
   "cell_type": "markdown",
   "metadata": {},
   "source": [
    "***Thus the above statistics values for Reported Date column is wrong.***"
   ]
  },
  {
   "cell_type": "markdown",
   "metadata": {},
   "source": [
    "***The reformatting of date can be done by using a user defined function for the spark dataframe.***"
   ]
  },
  {
   "cell_type": "code",
   "execution_count": 16,
   "metadata": {},
   "outputs": [],
   "source": [
    "func =  udf(lambda a: str(a.split(\"/\")[2] + \"/\" + a.split(\"/\")[1] + \"/\" + a.split(\"/\")[0]))\n",
    "\n",
    "df_reformat_date = df.dropna().withColumn('Reported Date', func(col('Reported Date')))"
   ]
  },
  {
   "cell_type": "markdown",
   "metadata": {},
   "source": [
    "As seen from the above code we have reformatted the date and we store this in a new variable df_reformat_date. "
   ]
  },
  {
   "cell_type": "code",
   "execution_count": 17,
   "metadata": {},
   "outputs": [
    {
     "name": "stdout",
     "output_type": "stream",
     "text": [
      "+-------------+\n",
      "|Reported Date|\n",
      "+-------------+\n",
      "|   2012/05/15|\n",
      "|   2012/05/15|\n",
      "|   2012/05/15|\n",
      "|   2012/05/15|\n",
      "|   2012/05/15|\n",
      "+-------------+\n",
      "only showing top 5 rows\n",
      "\n"
     ]
    }
   ],
   "source": [
    "df_reformat_date.select(\"Reported Date\").show(5)"
   ]
  },
  {
   "cell_type": "markdown",
   "metadata": {},
   "source": [
    "As seen from the above output we have the Reported Date column in the 'yyyy/mm/dd' format. Now the computation for min, max values would be correct."
   ]
  },
  {
   "cell_type": "markdown",
   "metadata": {},
   "source": [
    "Now that we have the date in the right format we now can find the statistics values for the Reported Date column. This can be done using the standard describe method."
   ]
  },
  {
   "cell_type": "code",
   "execution_count": 18,
   "metadata": {},
   "outputs": [
    {
     "name": "stdout",
     "output_type": "stream",
     "text": [
      "The statistics values for Reported date are: \n",
      "+-------+-------------+\n",
      "|summary|Reported Date|\n",
      "+-------+-------------+\n",
      "|  count|       726921|\n",
      "|   mean|         null|\n",
      "| stddev|         null|\n",
      "|    min|    2010/07/1|\n",
      "|    max|    2019/03/9|\n",
      "+-------+-------------+\n",
      "\n"
     ]
    }
   ],
   "source": [
    "print(\"The statistics values for Reported date are: \")\n",
    "df_reformat_date.describe('Reported Date').show()"
   ]
  },
  {
   "cell_type": "markdown",
   "metadata": {},
   "source": [
    "As seen from the above statistics values we can see that they differ from the previous values for the same column. thus the above obtained values are the correct maximum and minimum date of the dataset."
   ]
  },
  {
   "cell_type": "markdown",
   "metadata": {},
   "source": [
    "***Alternative method for finding statistics values of Reported Date column***"
   ]
  },
  {
   "cell_type": "markdown",
   "metadata": {},
   "source": [
    "As we know the mean and standard deviation of a date cannot be found thus the values are null. We can find the min, max and the count of the Reported Date column by another method. We convert the Reported Date to date format and find the minimum, maximum and the count of the column. Code for this is as follows:"
   ]
  },
  {
   "cell_type": "code",
   "execution_count": 19,
   "metadata": {},
   "outputs": [
    {
     "data": {
      "text/plain": [
       "'As seen we use dropna to drop all null values from the dataframe as the null values cause error while computing\\n   for some values'"
      ]
     },
     "execution_count": 19,
     "metadata": {},
     "output_type": "execute_result"
    }
   ],
   "source": [
    "## Converting Reported Date column to Datetime type\n",
    "\n",
    "func =  udf (lambda x: datetime.strptime(x, '%d/%m/%Y'), DateType())\n",
    "\n",
    "df_data_changed = df.dropna().withColumn('Reported Date', func(col('Reported Date')))\n",
    "\n",
    "'''As seen we use dropna to drop all null values from the dataframe as the null values cause error while computing\n",
    "   for some values'''\n"
   ]
  },
  {
   "cell_type": "code",
   "execution_count": 20,
   "metadata": {},
   "outputs": [],
   "source": [
    "## Code to fint d the min, max and count of the Reported Date column\n",
    "result_date = df_data_changed.select([min(\"Reported Date\"), \n",
    "                        max(\"Reported Date\"), \n",
    "                        count(\"Reported Date\")])"
   ]
  },
  {
   "cell_type": "code",
   "execution_count": 21,
   "metadata": {},
   "outputs": [
    {
     "name": "stdout",
     "output_type": "stream",
     "text": [
      "The statistics values for date are: \n",
      "+------------------+------------------+--------------------+\n",
      "|min(Reported Date)|max(Reported Date)|count(Reported Date)|\n",
      "+------------------+------------------+--------------------+\n",
      "|        2010-07-01|        2019-03-31|              726921|\n",
      "+------------------+------------------+--------------------+\n",
      "\n"
     ]
    }
   ],
   "source": [
    "print(\"The statistics values for date are: \")\n",
    "result_date.show()"
   ]
  },
  {
   "cell_type": "markdown",
   "metadata": {},
   "source": [
    "As seen above we have achieved the values for min, max and count of date."
   ]
  },
  {
   "cell_type": "markdown",
   "metadata": {},
   "source": [
    "## Step6: Changing the data type of a column"
   ]
  },
  {
   "cell_type": "markdown",
   "metadata": {},
   "source": [
    "Here we have the \"Reported Date\" column in string format, we now would have to write a user defined function for converting this to date format. A user defined function or UDF is a feature of Spark SQL to define column based functions. Thus these are functions which are written by the programmer which can be used to perform operations on a column of a pyspark dataframe. "
   ]
  },
  {
   "cell_type": "code",
   "execution_count": 22,
   "metadata": {},
   "outputs": [
    {
     "data": {
      "text/plain": [
       "[('Offence Count', 'int'),\n",
       " ('Offence Level 1 Description', 'string'),\n",
       " ('Offence Level 2 Description', 'string'),\n",
       " ('Offence Level 3 Description', 'string'),\n",
       " ('Postcode - Incident', 'string'),\n",
       " ('Reported Date', 'string'),\n",
       " ('Suburb - Incident', 'string'),\n",
       " ('_id', 'struct<oid:string>')]"
      ]
     },
     "execution_count": 22,
     "metadata": {},
     "output_type": "execute_result"
    }
   ],
   "source": [
    "df.dtypes"
   ]
  },
  {
   "cell_type": "markdown",
   "metadata": {},
   "source": [
    "As seen from the above schema we can see that the Reported Date is of datatype string. Now we convert the Reported Date column to date type and store this in a new dataframe namely df_date_changed."
   ]
  },
  {
   "cell_type": "code",
   "execution_count": 23,
   "metadata": {},
   "outputs": [],
   "source": [
    "\n",
    "func =  udf (lambda x: datetime.strptime(x, '%d/%m/%Y'), DateType())\n",
    "\n",
    "df_data_changed = df.dropna().withColumn('Reported Date', func(col('Reported Date')))\n"
   ]
  },
  {
   "cell_type": "code",
   "execution_count": 24,
   "metadata": {},
   "outputs": [
    {
     "name": "stdout",
     "output_type": "stream",
     "text": [
      "+-------------+---------------------------+---------------------------+---------------------------+-------------------+-------------+-----------------+--------------------+\n",
      "|Offence Count|Offence Level 1 Description|Offence Level 2 Description|Offence Level 3 Description|Postcode - Incident|Reported Date|Suburb - Incident|                 _id|\n",
      "+-------------+---------------------------+---------------------------+---------------------------+-------------------+-------------+-----------------+--------------------+\n",
      "|            1|       OFFENCES AGAINST ...|       THEFT AND RELATED...|            Theft from shop|               5169|   2012-05-15|          SEAFORD|[5d725e9350f59766...|\n",
      "|            1|       OFFENCES AGAINST ...|       ROBBERY AND RELAT...|         Aggravated robbery|               5023|   2012-05-15|           SEATON|[5d725e9350f59766...|\n",
      "|            1|       OFFENCES AGAINST ...|       THEFT AND RELATED...|            Theft from shop|               5019|   2012-05-15|        SEMAPHORE|[5d725e9350f59766...|\n",
      "|            1|       OFFENCES AGAINST ...|       ACTS INTENDED TO ...|             Assault Police|               5019|   2012-05-15|   SEMAPHORE PARK|[5d725e9350f59766...|\n",
      "|            1|       OFFENCES AGAINST ...|       SEXUAL ASSAULT AN...|       Aggravated sexual...|               5019|   2012-05-15|   SEMAPHORE PARK|[5d725e9350f59766...|\n",
      "+-------------+---------------------------+---------------------------+---------------------------+-------------------+-------------+-----------------+--------------------+\n",
      "only showing top 5 rows\n",
      "\n"
     ]
    }
   ],
   "source": [
    "df_data_changed.show(5)"
   ]
  },
  {
   "cell_type": "code",
   "execution_count": 25,
   "metadata": {},
   "outputs": [
    {
     "name": "stdout",
     "output_type": "stream",
     "text": [
      "root\n",
      " |-- Offence Count: integer (nullable = true)\n",
      " |-- Offence Level 1 Description: string (nullable = true)\n",
      " |-- Offence Level 2 Description: string (nullable = true)\n",
      " |-- Offence Level 3 Description: string (nullable = true)\n",
      " |-- Postcode - Incident: string (nullable = true)\n",
      " |-- Reported Date: date (nullable = true)\n",
      " |-- Suburb - Incident: string (nullable = true)\n",
      " |-- _id: struct (nullable = true)\n",
      " |    |-- oid: string (nullable = true)\n",
      "\n"
     ]
    }
   ],
   "source": [
    "df_data_changed.printSchema()"
   ]
  },
  {
   "cell_type": "markdown",
   "metadata": {},
   "source": [
    "As seen when we print the schema of df_data_changed we can see that the Reported Date column is of type date."
   ]
  },
  {
   "cell_type": "markdown",
   "metadata": {},
   "source": [
    "## Step7: Preliminary data analysis"
   ]
  },
  {
   "cell_type": "markdown",
   "metadata": {},
   "source": [
    "In this step of the Assignment we have to perform some analytical queries on the given dataset."
   ]
  },
  {
   "cell_type": "markdown",
   "metadata": {},
   "source": [
    "#### Task1: How many level 2 offences are there? Display the list of level 2 offences"
   ]
  },
  {
   "cell_type": "markdown",
   "metadata": {},
   "source": [
    "In the first task of this step we have to find out the number of level 2 offences and display the unique ones. For doing this we take the column and put it in a list and then this list is used for findding the unique elements."
   ]
  },
  {
   "cell_type": "code",
   "execution_count": 26,
   "metadata": {},
   "outputs": [],
   "source": [
    "## Code for conversion of column of the dataframe to a list\n",
    "df_offence_2 =  df_data_changed.select('Offence Level 2 Description').collect()\n",
    "df_offence_2_list = []\n",
    "for i in df_offence_2:\n",
    "    df_offence_2_list.append(i[0])"
   ]
  },
  {
   "cell_type": "markdown",
   "metadata": {},
   "source": [
    "As seen from the above code we take all the elements from the column and store it in a list. Now the list is "
   ]
  },
  {
   "cell_type": "code",
   "execution_count": 27,
   "metadata": {},
   "outputs": [],
   "source": [
    "## Code for obtaining unique elements from the list\n",
    "df_offence_2_set = set(df_offence_2_list)\n",
    "df_offence_2_unique = list(df_offence_2_set)"
   ]
  },
  {
   "cell_type": "code",
   "execution_count": 28,
   "metadata": {},
   "outputs": [
    {
     "name": "stdout",
     "output_type": "stream",
     "text": [
      "the number of level 2 offences which are there are:  9\n",
      "\n",
      "the level 2 offences are:\n"
     ]
    },
    {
     "data": {
      "text/plain": [
       "['ACTS INTENDED TO CAUSE INJURY',\n",
       " 'HOMICIDE AND RELATED OFFENCES',\n",
       " 'OTHER OFFENCES AGAINST THE PERSON',\n",
       " 'SERIOUS CRIMINAL TRESPASS',\n",
       " 'FRAUD DECEPTION AND RELATED OFFENCES',\n",
       " 'SEXUAL ASSAULT AND RELATED OFFENCES',\n",
       " 'ROBBERY AND RELATED OFFENCES',\n",
       " 'PROPERTY DAMAGE AND ENVIRONMENTAL',\n",
       " 'THEFT AND RELATED OFFENCES']"
      ]
     },
     "execution_count": 28,
     "metadata": {},
     "output_type": "execute_result"
    }
   ],
   "source": [
    "## Printing the number of level 2 offences and all it's types\n",
    "print(\"the number of level 2 offences which are there are: \", len(df_offence_2_unique))\n",
    "print(\"\\nthe level 2 offences are:\")\n",
    "df_offence_2_unique"
   ]
  },
  {
   "cell_type": "markdown",
   "metadata": {},
   "source": [
    "#### Task2: What is the number of offences against the person"
   ]
  },
  {
   "cell_type": "markdown",
   "metadata": {},
   "source": [
    "In this task we have to find the number of Offences which are against the person. If we see the dataset we can observe that the 'Offence Level 1 Description' has the value as 'OFFENCES AGAINST THE PERSON'. Thus we have to find the number of offences against the person. This can be done by obtaining all the rows which has the specified value and then sum up the Offence Count value."
   ]
  },
  {
   "cell_type": "code",
   "execution_count": 29,
   "metadata": {},
   "outputs": [],
   "source": [
    "offence_against_person = df_data_changed[df_data_changed['Offence Level 1 Description']=='OFFENCES AGAINST THE PERSON'].\\\n",
    "    select(\"Offence Count\").groupBy().sum().collect()"
   ]
  },
  {
   "cell_type": "code",
   "execution_count": 30,
   "metadata": {},
   "outputs": [
    {
     "name": "stdout",
     "output_type": "stream",
     "text": [
      "The number of Offences against the person is:  175480\n"
     ]
    }
   ],
   "source": [
    "print('The number of Offences against the person is: ', offence_against_person[0][0])"
   ]
  },
  {
   "cell_type": "markdown",
   "metadata": {},
   "source": [
    "#### Task3: How many serious criminal tresspasses with more than 1 offence count?"
   ]
  },
  {
   "cell_type": "markdown",
   "metadata": {},
   "source": [
    "In this task we have to find the number of records which have serious criminal tresspasses and more than one offence count. If we observe the dataset we can see that the 'Offence Level 2 Description' column has the value 'SERIOUS CRIMINAL TRESPASS'. Thus we have to find the number of records which have this value and have more than one offence count. We can do this by obtaining the dataset based on the value parameter conditions and find the count which would give us number of rows."
   ]
  },
  {
   "cell_type": "code",
   "execution_count": 31,
   "metadata": {},
   "outputs": [],
   "source": [
    "serious_criminal_tresspasser =  df_data_changed[(\n",
    "                df_data_changed['Offence Level 2 Description']=='SERIOUS CRIMINAL TRESPASS') \n",
    "                & (df_data_changed['Offence Count'] > 1)].count()"
   ]
  },
  {
   "cell_type": "code",
   "execution_count": 32,
   "metadata": {},
   "outputs": [
    {
     "name": "stdout",
     "output_type": "stream",
     "text": [
      "The number of serious criminal tresspasses with more than one offence count is:  8574\n"
     ]
    }
   ],
   "source": [
    "print('The number of serious criminal tresspasses with more than one offence count is: ', serious_criminal_tresspasser)"
   ]
  },
  {
   "cell_type": "markdown",
   "metadata": {},
   "source": [
    "#### Task4: percentage of crimes are offences against the property"
   ]
  },
  {
   "cell_type": "markdown",
   "metadata": {},
   "source": [
    "In this task we have to find the percentage of crimes which are offences against the property. For doing this we find the data which has 'Offence Level 1 Description' value as 'OFFENCES AGAINST PROPERTY'. We find the number of records it has and divide by the total number of rows in the dataframe. We then find the percentage value for this."
   ]
  },
  {
   "cell_type": "code",
   "execution_count": 33,
   "metadata": {},
   "outputs": [],
   "source": [
    "number_offence_property = df_data_changed[df_data_changed['Offence Level 1 Description']=='OFFENCES AGAINST PROPERTY'].\\\n",
    "groupBy().sum('Offence Count').collect()[0][0]"
   ]
  },
  {
   "cell_type": "code",
   "execution_count": 34,
   "metadata": {},
   "outputs": [],
   "source": [
    "number_total_df = df_data_changed.groupBy().sum().collect()[0][0]"
   ]
  },
  {
   "cell_type": "code",
   "execution_count": 35,
   "metadata": {},
   "outputs": [],
   "source": [
    "per_property = (number_offence_property / number_total_df) * 100"
   ]
  },
  {
   "cell_type": "code",
   "execution_count": 36,
   "metadata": {},
   "outputs": [
    {
     "name": "stdout",
     "output_type": "stream",
     "text": [
      "Percentage of crimes are offences against the property is:  79.3955334288331\n"
     ]
    }
   ],
   "source": [
    "print(\"Percentage of crimes are offences against the property is: \", per_property)"
   ]
  },
  {
   "cell_type": "markdown",
   "metadata": {},
   "source": [
    "## Step8: Exploratory data Analysis:"
   ]
  },
  {
   "cell_type": "markdown",
   "metadata": {},
   "source": [
    "#### Task1: Find the number of crimes per year. Plot the graph and explain your understanding of the graph"
   ]
  },
  {
   "cell_type": "markdown",
   "metadata": {},
   "source": [
    "Now in this step of the assignment we have to write code to analyse analytical queries and perform visualisation using the standard python library \"matplotlib\"."
   ]
  },
  {
   "cell_type": "markdown",
   "metadata": {},
   "source": [
    "Our first EDA step is to find the number of crimes per year and to perform a plot for the same. For this we first consider the Reported Date column of the pyspark dataframe and we obtain only the year from this column. Then we group by year and find the number of offences every year by summing up number of offences based on the year."
   ]
  },
  {
   "cell_type": "code",
   "execution_count": 37,
   "metadata": {},
   "outputs": [],
   "source": [
    "df_date_plot = df_data_changed.groupBy(year('Reported Date').alias('year')).sum('Offence Count').\\\n",
    "                sort(\"year\", ascending = True).collect()"
   ]
  },
  {
   "cell_type": "markdown",
   "metadata": {},
   "source": [
    "Now we make a dictionary for the year and the offence count. We can now use this dictionary for performing a bar plot year vs number of crimes commited."
   ]
  },
  {
   "cell_type": "markdown",
   "metadata": {},
   "source": [
    "We create a python dictionary and in the dictionary we put in all the data which is required for the plot."
   ]
  },
  {
   "cell_type": "code",
   "execution_count": 38,
   "metadata": {},
   "outputs": [],
   "source": [
    "plot_data = {}\n",
    "\n",
    "for i in df_date_plot:\n",
    "    plot_data[str(i[0])] = i[1]\n",
    "#plot_data.pop(None)"
   ]
  },
  {
   "cell_type": "markdown",
   "metadata": {},
   "source": [
    "Now that we have the data of the number of crimes based on the year we plot this in the form of a bar graph. Matplotlib a standard python package for plotting is used for obtaining the plot."
   ]
  },
  {
   "cell_type": "code",
   "execution_count": 39,
   "metadata": {},
   "outputs": [
    {
     "data": {
      "text/plain": [
       "<BarContainer object of 10 artists>"
      ]
     },
     "execution_count": 39,
     "metadata": {},
     "output_type": "execute_result"
    }
   ],
   "source": [
    "import matplotlib.pyplot as plt\n",
    "plt.figure(figsize=[15,5])\n",
    "plt.xlabel(\"Year\")\n",
    "plt.ylabel(\"Number of Crimes\")\n",
    "plt.bar(list(plot_data.keys()),list(plot_data.values()), width=0.2)"
   ]
  },
  {
   "cell_type": "markdown",
   "metadata": {},
   "source": [
    "***Inference from the above plot is as follows:***\n",
    "\n",
    "As we know that the minimum date is '1/7/2010' and the maximum date is '31/3/2019' we cannot say anything about the years 2010 and 2019 as only a part of the year is in consideration in this dataset.\n",
    "\n",
    "However considering the other years we can say that the number of crimes are high in the initial years that is 2011 to 2016 and then in the years 2017 and 2018 the crimes have reduced. Thus we can tell that the number of crimes have reduced in recent years compared to the past years."
   ]
  },
  {
   "cell_type": "markdown",
   "metadata": {},
   "source": [
    "#### Task2: Find the number of crimes per month. Plot the graph and explain your understanding of the graph."
   ]
  },
  {
   "cell_type": "markdown",
   "metadata": {},
   "source": [
    "Now in this task we have to perform a plot of the number of crimes vs month. This is done in a similar manner as we do for year. In the first step we split the date which is retrieved from the Reported Date column and we now take the month only. We then group the values based on the month value and find the total number of offences based on the month."
   ]
  },
  {
   "cell_type": "code",
   "execution_count": 40,
   "metadata": {},
   "outputs": [],
   "source": [
    "df_month_plot = df_data_changed.groupBy(month('Reported Date').alias('month')).sum('Offence Count').\\\n",
    "                sort(\"month\", ascending = True).collect()"
   ]
  },
  {
   "cell_type": "markdown",
   "metadata": {},
   "source": [
    "Now that we have the total number of crimes based on the month we now store this in a dictionary."
   ]
  },
  {
   "cell_type": "code",
   "execution_count": 41,
   "metadata": {},
   "outputs": [],
   "source": [
    "plot_data_month = {}\n",
    "\n",
    "for i in df_month_plot:\n",
    "    plot_data_month[str(i[0])] = i[1]\n",
    "# plot_data_month.pop(None)"
   ]
  },
  {
   "cell_type": "markdown",
   "metadata": {},
   "source": [
    "Now we have the data of the number of crimes based on month, we plot this in the form of a bar graph. We use matplotlib as a standard python library to perform this task."
   ]
  },
  {
   "cell_type": "code",
   "execution_count": 42,
   "metadata": {},
   "outputs": [
    {
     "data": {
      "text/plain": [
       "<BarContainer object of 12 artists>"
      ]
     },
     "execution_count": 42,
     "metadata": {},
     "output_type": "execute_result"
    },
    {
     "data": {
      "image/png": "[encoded data removed]",
      "text/plain": [
       "<Figure size 1080x360 with 1 Axes>"
      ]
     },
     "metadata": {
      "needs_background": "light"
     },
     "output_type": "display_data"
    }
   ],
   "source": [
    "import matplotlib.pyplot as plt\n",
    "plt.figure(figsize=[15,5])\n",
    "plt.xlabel(\"Month\")\n",
    "plt.ylabel(\"Number of Crimes\")\n",
    "plt.bar(list(plot_data_month.keys()),list(plot_data_month.values()), width=0.5)"
   ]
  },
  {
   "cell_type": "markdown",
   "metadata": {},
   "source": [
    "***Inference from the above plot is as follows***\n",
    "\n",
    "We can see that plot for crimes at the start of the year is high and then it reduces to a considerable extent and then again starts to increase.\n",
    "\n",
    "Thus crimes on the first 3 months is high and then it reduces for the next three months and then the values again increase for the consecutive months."
   ]
  },
  {
   "cell_type": "markdown",
   "metadata": {},
   "source": [
    "#### Task3: Where do most crimes take place? Find the top 20 suburbs (which would also display postcode for e.g. Caulfield-3162 )?. Plot the graph and explain your understanding of the graph."
   ]
  },
  {
   "cell_type": "markdown",
   "metadata": {},
   "source": [
    "In this task we have to find the number of crimes based on the suburbs. For this we first group the dataset based on the suburbs and the postcode. Then we would find the number of offences and after sorting we would find the top 20 suburbs based on the crime rate."
   ]
  },
  {
   "cell_type": "code",
   "execution_count": 43,
   "metadata": {},
   "outputs": [],
   "source": [
    "df_crime_suburb =   df_data_changed.groupBy([\"Suburb - Incident\", \"Postcode - Incident\"]).\\\n",
    "                        sum(\"Offence Count\").\\\n",
    "                        sort('sum(Offence Count)', ascending = False).\\\n",
    "                        take(20)"
   ]
  },
  {
   "cell_type": "markdown",
   "metadata": {},
   "source": [
    "Now that we have the top 20 suburbs based on the crime rates we now put this into a dictionary so that it would help us in plotting."
   ]
  },
  {
   "cell_type": "code",
   "execution_count": 44,
   "metadata": {},
   "outputs": [],
   "source": [
    "plot_suburb_data = {}\n",
    "for i in df_crime_suburb:\n",
    "    plot_suburb_data[str(i[0]) + \" - \"  +  str(i[1])] = i[2]"
   ]
  },
  {
   "cell_type": "markdown",
   "metadata": {},
   "source": [
    "Now that we have the data for top 20 suburbs and the number of crimes we plot the data. We use a horizontal bar graph for the following plot. Matplotlib library is used for doing the plot."
   ]
  },
  {
   "cell_type": "code",
   "execution_count": 45,
   "metadata": {},
   "outputs": [
    {
     "data": {
      "text/plain": [
       "<BarContainer object of 20 artists>"
      ]
     },
     "execution_count": 45,
     "metadata": {},
     "output_type": "execute_result"
    },
    {
     "data": {
      "image/png": "[encoded data removed]",
      "text/plain": [
       "<Figure size 720x720 with 1 Axes>"
      ]
     },
     "metadata": {
      "needs_background": "light"
     },
     "output_type": "display_data"
    }
   ],
   "source": [
    "import matplotlib.pyplot as plt\n",
    "plt.figure(figsize=[10,10])\n",
    "plt.xlabel(\"Number of Crimes\")\n",
    "plt.ylabel(\"Suburbs\")\n",
    "plt.barh(list(plot_suburb_data.keys()), list(plot_suburb_data.values()))"
   ]
  },
  {
   "cell_type": "markdown",
   "metadata": {},
   "source": [
    "***Inference from the above plot is as follows***\n",
    "\n",
    "From the above plot we can see that Adelaide has the maximum number of crimes and this is followed by Port Augusta and Mount Gambier.\n",
    "\n",
    "However we can see that the number of crimes in Adelaide is very very high. this can indicate that the something is seriously wrong in that region and the government should take immediate precationary steps to reduce crime rates in Adelaide."
   ]
  },
  {
   "cell_type": "markdown",
   "metadata": {},
   "source": [
    "#### Task4: Find the number of serious criminal trespasses by day and month. Plot a graph and explain your understanding of the graph."
   ]
  },
  {
   "cell_type": "markdown",
   "metadata": {},
   "source": [
    "Now in this task our job would to plot the 'serious criminal trespasses' based on the month and the day. Thus we first filter the data based on the value and take all the rows which have the value 'SERIOUS CRIMINAL TRESPASS'."
   ]
  },
  {
   "cell_type": "code",
   "execution_count": 46,
   "metadata": {},
   "outputs": [],
   "source": [
    "df_serious_crime =  df_data_changed[df_data_changed['Offence Level 2 Description'] == 'SERIOUS CRIMINAL TRESPASS']"
   ]
  },
  {
   "cell_type": "markdown",
   "metadata": {},
   "source": [
    "Now that we have the required data we would now group the data by month and day values and then find the number of serious criminal trespasses based on the day and month and store it as a list."
   ]
  },
  {
   "cell_type": "code",
   "execution_count": 47,
   "metadata": {},
   "outputs": [],
   "source": [
    "df_serious_crime_plot_month = df_serious_crime.groupBy(month('Reported Date').alias('month'), \n",
    "                dayofweek('Reported Date').\n",
    "                alias('day')).sum('Offence Count').\\\n",
    "                sort(\"month\",\"day\", ascending = True).collect()"
   ]
  },
  {
   "cell_type": "markdown",
   "metadata": {},
   "source": [
    "Now we create a list of lists based on the month and date values and this data is to be plotted."
   ]
  },
  {
   "cell_type": "code",
   "execution_count": 48,
   "metadata": {},
   "outputs": [],
   "source": [
    "\n",
    "serious_data_count = []\n",
    "\n",
    "for i in range(12):\n",
    "    serious_data_count.append([])\n",
    "\n",
    "for i in df_serious_crime_plot_month:\n",
    "        serious_data_count[i[0] - 1].append(i[2])"
   ]
  },
  {
   "cell_type": "markdown",
   "metadata": {},
   "source": [
    "Now we have the required data to be plotted, hence we make line graphs based on the months. The plot is done using the Matplotlib library."
   ]
  },
  {
   "cell_type": "code",
   "execution_count": 49,
   "metadata": {},
   "outputs": [
    {
     "data": {
      "image/png": "[encoded data removed]",
      "text/plain": [
       "<Figure size 1440x720 with 12 Axes>"
      ]
     },
     "metadata": {
      "needs_background": "light"
     },
     "output_type": "display_data"
    }
   ],
   "source": [
    "Month_list = ['January', 'February', 'March', 'April', 'May', 'June', 'July', 'August', 'September', 'October',\n",
    "             'November', 'December']\n",
    "plt.figure(figsize=(20,10))\n",
    "palette = plt.get_cmap('Set3')\n",
    "\n",
    "for i in range(12):\n",
    "    plt.subplot(4,3,i+1)\n",
    "    plt.plot(serious_data_count[i], color=palette(i), linewidth=2.9, label= Month_list[i], marker = 'o')\n",
    "    plt.legend()"
   ]
  },
  {
   "cell_type": "markdown",
   "metadata": {},
   "source": [
    "As seen from the above plot we can see that the plot is done for serious criminal trespasses based on the day of the week. We can see that the crime rates are less for the months April, May and June and they are the highest for the months October, November and December.\n",
    "\n",
    "Also we can see that the first day of the week and the last day of the week has the lowest number of serious criminal tresspasses and the second day of the week has the highest number of serious criminal trespasses."
   ]
  },
  {
   "cell_type": "markdown",
   "metadata": {},
   "source": [
    "## References Used:"
   ]
  },
  {
   "cell_type": "markdown",
   "metadata": {},
   "source": [
    "some codes from Monash University Lecture 2,3,4 has been used for this assignment. "
   ]
  }
 ],
 "metadata": {
  "kernelspec": {
   "display_name": "Python 2",
   "language": "python",
   "name": "python2"
  },
  "language_info": {
   "codemirror_mode": {
    "name": "ipython",
    "version": 3
   },
   "file_extension": ".py",
   "mimetype": "text/x-python",
   "name": "python",
   "nbconvert_exporter": "python",
   "pygments_lexer": "ipython3",
   "version": "3.7.3"
  }
 },
 "nbformat": 4,
 "nbformat_minor": 2
}
