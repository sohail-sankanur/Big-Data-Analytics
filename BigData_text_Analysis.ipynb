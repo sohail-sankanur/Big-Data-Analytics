{
 "cells": [
  {
   "cell_type": "markdown",
   "metadata": {},
   "source": [
    "# Part A: Analysing text data"
   ]
  },
  {
   "cell_type": "markdown",
   "metadata": {},
   "source": [
    "In this assignment we are going to analysy two books which are based on software development methodologies. The two files/books which we are going to use for this part of the assignment is:\n",
    "* Book1: \"Agile Processes in Software Engineering and Extreme Programming.txt\"\n",
    "* Book2: \"Scrum Handbook.txt\" "
   ]
  },
  {
   "cell_type": "markdown",
   "metadata": {},
   "source": [
    "Our task will be to see the distribution of words, the most common words in both books and the average frequency. This approach can also be scaled to find the most common words and distribution of all words in the Internet."
   ]
  },
  {
   "cell_type": "markdown",
   "metadata": {},
   "source": [
    "## Step1: Importing pyspark and initialising it"
   ]
  },
  {
   "cell_type": "markdown",
   "metadata": {},
   "source": [
    "In this step we will be importing a library called pyspark. Pyspark is a python API for spark. In this we are going to use \"SparkContext\" which is a main entry for Spark functionality. We are also going to use \"SparkConf\" which is used for configuring Spark. Now our first step would be to import SparkContext and SparkConf libraries from pyspark"
   ]
  },
  {
   "cell_type": "code",
   "execution_count": 1,
   "metadata": {},
   "outputs": [],
   "source": [
    "# !pip install pyspark\n",
    "from pyspark import SparkContext, SparkConf \n",
    "from pyspark.sql import SparkSession\n"
   ]
  },
  {
   "cell_type": "markdown",
   "metadata": {},
   "source": [
    "Now that we have imported the required libraries we now use this to create a Spark Session and configure Spark to be used."
   ]
  },
  {
   "cell_type": "code",
   "execution_count": 2,
   "metadata": {},
   "outputs": [],
   "source": [
    "# Construct a configuration\n",
    "conf = SparkConf()\n",
    "conf.set(\"spark.app.name\", \"Advanced Spark Programming\")\n",
    "conf.set(\"spark.master\", \"local[2]\")\n",
    "conf.set(\"spark.ui.port\", \"4050\") # Override the default port 4040\n",
    "\n",
    "\n",
    "sc = SparkContext(conf=conf)\n",
    "spark = SparkSession(sparkContext=sc)"
   ]
  },
  {
   "cell_type": "code",
   "execution_count": 3,
   "metadata": {},
   "outputs": [],
   "source": [
    "\n",
    "# We add this line to avoid an error : \"Cannot run multiple SparkContexts at once\". \n",
    "# If there is an existing spark context, we will reuse it instead of creating a new context.\n",
    "sc = SparkContext.getOrCreate()\n",
    "\n",
    "# local[*]: run Spark locally with as many working processors as logical cores on your machine.\n",
    "# In the field of `master`, we use a local server with as many working processors (or threads) as possible (i.e. `local[*]`). \n",
    "# If we want Spark to run locally with 'k' worker threads, we can specify as `local[k]`.\n",
    "# The `appName` field is a name to be shown on the Sparking cluster UI. \n",
    "\n",
    "# If there is no existing spark context, we now create a new context\n",
    "if (sc is None):\n",
    "    sc = SparkContext(master=\"local[*]\", appName=\"Assignment1\")\n",
    "\n",
    "spark = SparkSession(sparkContext=sc)"
   ]
  },
  {
   "cell_type": "markdown",
   "metadata": {},
   "source": [
    "## Step2: Creating Resilient Distributed Datasets (RDDs)"
   ]
  },
  {
   "cell_type": "markdown",
   "metadata": {},
   "source": [
    "The main abstraction which Spark provides is a resilient distributed dataset also known as RDD. A RDD is a collection of elements which is partitioned across the nodes of the cluster that can be operated on in parallel. Now in this step we are going to create RDD's for the files which is given to us in the assignment specification."
   ]
  },
  {
   "cell_type": "code",
   "execution_count": 4,
   "metadata": {},
   "outputs": [],
   "source": [
    "# reading all the files which is given in the assignment\n",
    "agile_process = sc.textFile('Agile Processes  in Software Engineering  and Extreme Programming.txt')\n",
    "scrum_handbook = sc.textFile('Scrum\\ Handbook.txt')"
   ]
  },
  {
   "cell_type": "markdown",
   "metadata": {},
   "source": [
    "This part of the code is to display the total number of elements in each RDD."
   ]
  },
  {
   "cell_type": "code",
   "execution_count": 5,
   "metadata": {},
   "outputs": [
    {
     "name": "stdout",
     "output_type": "stream",
     "text": [
      "Number of lines in Agile Processes txt file is:  21569\n",
      "Numbe of lines in Scrum Handbook txt file is:  4617\n"
     ]
    }
   ],
   "source": [
    "# count of number of lines for each file which has been read\n",
    "print(\"Number of lines in Agile Processes txt file is: \",agile_process.count())\n",
    "print(\"Numbe of lines in Scrum Handbook txt file is: \",scrum_handbook.count())"
   ]
  },
  {
   "cell_type": "markdown",
   "metadata": {},
   "source": [
    "## Step3:  Cleaning and Manipulating the text"
   ]
  },
  {
   "cell_type": "markdown",
   "metadata": {},
   "source": [
    "Now in this step there is some data wrangline which has to be done on the given datasets"
   ]
  },
  {
   "cell_type": "markdown",
   "metadata": {},
   "source": [
    "The steps which have to be done here are:\n",
    "1. Removes all characters which are not alphabets except space(s).\n",
    "2. Changes all upper case letters to lowercase.\n",
    "3. Removes all leading or trailing spaces."
   ]
  },
  {
   "cell_type": "markdown",
   "metadata": {},
   "source": [
    "The function which is written below is to take a string in consideration and so all the tasks which are mentioned above. Each element in the RDD is a string and hence we are going to perform the tasks on a string. In the function the 'isalpha' fucntion is being used to remove any non alphabetic characters. The 'lower' function is being used to convert the string to lower case and the strip function is being used to remove all the begining and trailing spaces."
   ]
  },
  {
   "cell_type": "code",
   "execution_count": 6,
   "metadata": {},
   "outputs": [],
   "source": [
    "# function to remove all characters which are not alphabets except spaces\n",
    "## using the isalpha function we can find out wether a given character is an alphabet or not\n",
    "# this function is used to remove all the leading and trailing spaces\n",
    "def cleaning(inp):\n",
    "    retstr = \"\"\n",
    "    for i in inp:\n",
    "        if not i.isalpha() and i!=\" \":\n",
    "                i = \"\"        \n",
    "        retstr += i\n",
    "    return retstr.lower().strip()"
   ]
  },
  {
   "cell_type": "markdown",
   "metadata": {},
   "source": [
    "Now that we have formed the function we now use this function to perform the wrangling/cleaning tasks on the RDD. The function can be used to perform a given task on the RDD using the map function."
   ]
  },
  {
   "cell_type": "code",
   "execution_count": 7,
   "metadata": {},
   "outputs": [],
   "source": [
    "# mapping the above function to the RDD\n",
    "agile_processcess_clean = agile_process.map(cleaning)\n",
    "scrum_handbook_clean = scrum_handbook.map(cleaning)"
   ]
  },
  {
   "cell_type": "markdown",
   "metadata": {},
   "source": [
    "We now have the cleaned RDD with us!"
   ]
  },
  {
   "cell_type": "markdown",
   "metadata": {},
   "source": [
    "## Step4: Transforming data and counting the words"
   ]
  },
  {
   "cell_type": "markdown",
   "metadata": {},
   "source": [
    "In this step we are going to split the RDD based on spaces and then find the frequency of all words. Each element in the list would be the tuple and each tuple would consist of the word and the number of occurences of the word. We do this for both the datasets Agile and Scrum."
   ]
  },
  {
   "cell_type": "markdown",
   "metadata": {},
   "source": [
    "### Case1: Agile Process"
   ]
  },
  {
   "cell_type": "markdown",
   "metadata": {},
   "source": [
    "Now we obtain the word frequency of the Agile dataset."
   ]
  },
  {
   "cell_type": "code",
   "execution_count": 8,
   "metadata": {},
   "outputs": [],
   "source": [
    "# this code is to split all the words and then find the occurences of each of the words\n",
    "\n",
    "tokenized_agile = agile_processcess_clean.flatMap(lambda line: line.split(\" \"))\\\n",
    ".filter(lambda words: words != '')\n",
    "\n",
    "# Extract the first word of each line (the log level) and do a count\n",
    "word_frequency_agile = tokenized_agile.map(lambda words: (words,1))\\\n",
    ".reduceByKey(lambda x,y: x+y) \n"
   ]
  },
  {
   "cell_type": "markdown",
   "metadata": {},
   "source": [
    "Now that we have found the word frequency of the Agile dataset we now sort the tuples based on the word frequency count and display only the top 20 occurences of words."
   ]
  },
  {
   "cell_type": "code",
   "execution_count": 9,
   "metadata": {},
   "outputs": [
    {
     "name": "stdout",
     "output_type": "stream",
     "text": [
      "Top 20 most frequent words in Book1 or Agile is: \n"
     ]
    },
    {
     "data": {
      "text/plain": [
       "[(8145, 'the'),\n",
       " (3965, 'and'),\n",
       " (3944, 'of'),\n",
       " (3714, 'to'),\n",
       " (3076, 'in'),\n",
       " (2701, 'a'),\n",
       " (1539, 'is'),\n",
       " (1355, 'that'),\n",
       " (1194, 'for'),\n",
       " (1028, 'as'),\n",
       " (1015, 'on'),\n",
       " (975, 'we'),\n",
       " (969, 'with'),\n",
       " (922, 'software'),\n",
       " (915, 'this'),\n",
       " (784, 'are'),\n",
       " (748, 'agile'),\n",
       " (741, 'it'),\n",
       " (737, 'development'),\n",
       " (711, 'was')]"
      ]
     },
     "execution_count": 9,
     "metadata": {},
     "output_type": "execute_result"
    }
   ],
   "source": [
    "# this code is to display the top 20 occurences of the words\n",
    "\n",
    "word_frequency_swap_agile = word_frequency_agile.map(lambda x: (x[1],x[0]))\n",
    "top20_agile = word_frequency_swap_agile.sortByKey(0,1).take(20)\n",
    "print('Top 20 most frequent words in Book1 or Agile is: ')\n",
    "top20_agile"
   ]
  },
  {
   "cell_type": "markdown",
   "metadata": {},
   "source": [
    "### Case2: Scrum Handbook"
   ]
  },
  {
   "cell_type": "markdown",
   "metadata": {},
   "source": [
    "Now we obtain the word frequency of the Scrum dataset."
   ]
  },
  {
   "cell_type": "code",
   "execution_count": 10,
   "metadata": {},
   "outputs": [],
   "source": [
    "# this code is to split all the words and then find the occurences of each of the words\n",
    "\n",
    "tokenized_scrum = scrum_handbook_clean.flatMap(lambda line: line.split(\" \"))\\\n",
    ".filter(lambda words: words != '')\n",
    "\n",
    "# Extract the first word of each line (the log level) and do a count\n",
    "word_frequency_scrum = tokenized_scrum.map(lambda words: (words,1))\\\n",
    ".reduceByKey(lambda x,y: x+y) \n"
   ]
  },
  {
   "cell_type": "markdown",
   "metadata": {},
   "source": [
    "Now that we have found the word frequency of the Scrum dataset we now sort the tuples based on the word frequency count and display only the top 20 occurences of words."
   ]
  },
  {
   "cell_type": "code",
   "execution_count": 11,
   "metadata": {},
   "outputs": [
    {
     "name": "stdout",
     "output_type": "stream",
     "text": [
      "The 20 most occuring words in scrum or Book2 is: \n"
     ]
    },
    {
     "data": {
      "text/plain": [
       "[(1238, 'the'),\n",
       " (537, 'of'),\n",
       " (534, 'and'),\n",
       " (477, 'to'),\n",
       " (451, 'a'),\n",
       " (395, 'scrum'),\n",
       " (360, 'in'),\n",
       " (348, 'is'),\n",
       " (260, 'team'),\n",
       " (232, 'product'),\n",
       " (195, 'for'),\n",
       " (181, 'that'),\n",
       " (165, 'it'),\n",
       " (149, 'on'),\n",
       " (146, 'sprint'),\n",
       " (142, 'this'),\n",
       " (132, 'with'),\n",
       " (124, 'as'),\n",
       " (119, 'are'),\n",
       " (118, 'by')]"
      ]
     },
     "execution_count": 11,
     "metadata": {},
     "output_type": "execute_result"
    }
   ],
   "source": [
    "# this code is to display the top 20 occurences of the words\n",
    "\n",
    "word_frequency_swap_scrum = word_frequency_scrum.map(lambda x: (x[1],x[0]))\n",
    "top20_scrum = word_frequency_swap_scrum.sortByKey(0,1).take(20)\n",
    "print('The 20 most occuring words in scrum or Book2 is: ')\n",
    "top20_scrum"
   ]
  },
  {
   "cell_type": "markdown",
   "metadata": {},
   "source": [
    "## Removing all the stop words"
   ]
  },
  {
   "cell_type": "markdown",
   "metadata": {},
   "source": [
    "Stop words can be defined as words which are filtered out before processing of natural language data.Stop words are the words which commonly occur in the text. Usually while doing anaysis we would not want one specific set of words taking up space in the datset. Thus one of the task which we do before analysing datasets is removing stopwords."
   ]
  },
  {
   "cell_type": "markdown",
   "metadata": {},
   "source": [
    "In python stopwords can be handeled using a library calles NLTK(Natural Language Toolkit). Our first task in this step now would be to import the NLTK library. "
   ]
  },
  {
   "cell_type": "code",
   "execution_count": 12,
   "metadata": {},
   "outputs": [
    {
     "name": "stderr",
     "output_type": "stream",
     "text": [
      "[nltk_data] Downloading package stopwords to\n",
      "[nltk_data]     /Users/sohailsankanur/nltk_data...\n",
      "[nltk_data]   Package stopwords is already up-to-date!\n"
     ]
    },
    {
     "data": {
      "text/plain": [
       "True"
      ]
     },
     "execution_count": 12,
     "metadata": {},
     "output_type": "execute_result"
    }
   ],
   "source": [
    "import nltk\n",
    "nltk.download('stopwords')"
   ]
  },
  {
   "cell_type": "markdown",
   "metadata": {},
   "source": [
    "Now that we have downloaded all the common english stopwords we would now use this for removing stopwords from the dataset."
   ]
  },
  {
   "cell_type": "code",
   "execution_count": 13,
   "metadata": {},
   "outputs": [],
   "source": [
    "from nltk.corpus import stopwords\n",
    "stop_words=set(stopwords.words('english'))"
   ]
  },
  {
   "cell_type": "markdown",
   "metadata": {},
   "source": [
    "We create a python function names 'stop_removal' to remove all the stopwords from each input string which is supplied to the function. "
   ]
  },
  {
   "cell_type": "code",
   "execution_count": 14,
   "metadata": {},
   "outputs": [],
   "source": [
    "# function to remove all the stop words in the RDD\n",
    "def stop_removal(inp):\n",
    "    inplis = inp.split()\n",
    "    finstr = ''\n",
    "    for i in inplis:\n",
    "        if i not in stop_words:\n",
    "            finstr = finstr + i + \" \"\n",
    "    return finstr.strip()"
   ]
  },
  {
   "cell_type": "markdown",
   "metadata": {},
   "source": [
    "### Case1: Agile Process"
   ]
  },
  {
   "cell_type": "markdown",
   "metadata": {},
   "source": [
    "We use the 'stop_removal' function to remove all the stopwords from the Agile dataset. We can use the map function of pyspark for using a python function to perform an operation on the pyspark RDD."
   ]
  },
  {
   "cell_type": "code",
   "execution_count": 15,
   "metadata": {},
   "outputs": [],
   "source": [
    "agile_no_stop = agile_processcess_clean.map(stop_removal)"
   ]
  },
  {
   "cell_type": "markdown",
   "metadata": {},
   "source": [
    "Now we find the number of unique words and the number of total words in the Agile RDD."
   ]
  },
  {
   "cell_type": "code",
   "execution_count": 16,
   "metadata": {},
   "outputs": [],
   "source": [
    "# this code will help us find the total number of words and the number of unique words in the RDD\n",
    "\n",
    "agile_tokenized = agile_no_stop.flatMap(lambda line: line.split(\" \"))\\\n",
    ".filter(lambda words: words != '')\n",
    "\n",
    "agile_unique_count = agile_tokenized.map(lambda words: (words,1))\\\n",
    ".reduceByKey(lambda x,y: x+y).count()                                    # this gives us the number of unique\n",
    "                                                                         # words in the RDD\n",
    "\n",
    "agile_total_count = agile_tokenized.map(lambda x: len(x)).sum()          # this gives us the total number of \n",
    "                                                                         # words in RDD"
   ]
  },
  {
   "cell_type": "code",
   "execution_count": 17,
   "metadata": {},
   "outputs": [
    {
     "name": "stdout",
     "output_type": "stream",
     "text": [
      "The number of unique words we have in agile RDD is:  9611\n"
     ]
    }
   ],
   "source": [
    "print('The number of unique words we have in agile RDD is: ', agile_unique_count)"
   ]
  },
  {
   "cell_type": "markdown",
   "metadata": {},
   "source": [
    "### Case2: Scrum Handbook"
   ]
  },
  {
   "cell_type": "markdown",
   "metadata": {},
   "source": [
    "We use the 'stop_removal' function to remove all the stopwords from the Scrum dataset. We can use the map function of pyspark for using a python function to perform an operation on the pyspark RDD."
   ]
  },
  {
   "cell_type": "code",
   "execution_count": 18,
   "metadata": {},
   "outputs": [],
   "source": [
    "scrum_no_stop = scrum_handbook_clean.map(stop_removal)"
   ]
  },
  {
   "cell_type": "markdown",
   "metadata": {},
   "source": [
    "Now we find the number of unique words and the number of total words in the Scrum RDD."
   ]
  },
  {
   "cell_type": "code",
   "execution_count": 19,
   "metadata": {},
   "outputs": [],
   "source": [
    "# this code will help us find the total number of words and the number of unique words in the RDD\n",
    "\n",
    "scrum_tokenized = scrum_no_stop.flatMap(lambda line: line.split(\" \"))\\\n",
    ".filter(lambda words: words != '')\n",
    "\n",
    "scrum_unique_count = scrum_tokenized.map(lambda words: (words,1))\\\n",
    ".reduceByKey(lambda x,y: x+y).count()                                    # this gives us the number of unique\n",
    "                                                                         # words in the RDD\n",
    "\n",
    "scrum_total_count = scrum_tokenized.map(lambda x: len(x)).sum()          # this gives us the total number of \n",
    "                                                                         # words in RDD"
   ]
  },
  {
   "cell_type": "code",
   "execution_count": 20,
   "metadata": {},
   "outputs": [
    {
     "name": "stdout",
     "output_type": "stream",
     "text": [
      "The number of unique words we have in scrum RDD is:  2936\n"
     ]
    }
   ],
   "source": [
    "print('The number of unique words we have in scrum RDD is: ',scrum_unique_count)"
   ]
  },
  {
   "cell_type": "markdown",
   "metadata": {},
   "source": [
    "## Step6: Finding the average occurence of a word:"
   ]
  },
  {
   "cell_type": "markdown",
   "metadata": {},
   "source": [
    "In this step we find out the average occurence of a word. This can be found by dividing the total number of words by number of unique words."
   ]
  },
  {
   "cell_type": "markdown",
   "metadata": {},
   "source": [
    "### Case1: Agile Process"
   ]
  },
  {
   "cell_type": "markdown",
   "metadata": {},
   "source": [
    "We find the average occurence for the Agile dataset."
   ]
  },
  {
   "cell_type": "code",
   "execution_count": 21,
   "metadata": {},
   "outputs": [],
   "source": [
    "# to find the average occurence of the words we have to divide the total number of words by the number of unique words\n",
    "agile_average_count = agile_total_count / agile_unique_count"
   ]
  },
  {
   "cell_type": "code",
   "execution_count": 22,
   "metadata": {},
   "outputs": [
    {
     "name": "stdout",
     "output_type": "stream",
     "text": [
      "Average occurence of words in agile is:  57.30922900842784\n"
     ]
    }
   ],
   "source": [
    "print(\"Average occurence of words in agile is: \", agile_average_count)"
   ]
  },
  {
   "cell_type": "markdown",
   "metadata": {},
   "source": [
    "### Case2: Scrum Handbook"
   ]
  },
  {
   "cell_type": "markdown",
   "metadata": {},
   "source": [
    "We find the average occurence for the Scrum dataset."
   ]
  },
  {
   "cell_type": "code",
   "execution_count": 23,
   "metadata": {},
   "outputs": [],
   "source": [
    "# to find the average occurence of the words we have to divide the total number of words by the number of unique words\n",
    "scrum_average_count = scrum_total_count / scrum_unique_count"
   ]
  },
  {
   "cell_type": "code",
   "execution_count": 24,
   "metadata": {},
   "outputs": [
    {
     "name": "stdout",
     "output_type": "stream",
     "text": [
      "Average occurence of words in scrum is:  24.86376021798365\n"
     ]
    }
   ],
   "source": [
    "print(\"Average occurence of words in scrum is: \", scrum_average_count)"
   ]
  },
  {
   "cell_type": "markdown",
   "metadata": {},
   "source": [
    "## Step7: Exploratory data analysis:"
   ]
  },
  {
   "cell_type": "markdown",
   "metadata": {},
   "source": [
    "In this step our task would be to use the standard visualisation python library ***matplotlib*** and analyse the distribution of words in the dataset."
   ]
  },
  {
   "cell_type": "markdown",
   "metadata": {},
   "source": [
    "### Task1: Getting the Data for Book1 or Agile:"
   ]
  },
  {
   "cell_type": "markdown",
   "metadata": {},
   "source": [
    "Now we find the word frequency for Book 1 or Agile file for using it to plot a word distribution"
   ]
  },
  {
   "cell_type": "code",
   "execution_count": 25,
   "metadata": {},
   "outputs": [],
   "source": [
    "# this code is to split all the words and then find the occurences of each of the words\n",
    "\n",
    "tokenized_agile_no_stop = agile_no_stop.flatMap(lambda line: line.split(\" \"))\\\n",
    ".filter(lambda words: words != '')\n",
    "\n",
    "# Extract the first word of each line (the log level) and do a count\n",
    "word_frequency_agile_no_stop = tokenized_agile_no_stop.map(lambda words: (words,1))\\\n",
    ".reduceByKey(lambda x,y: x+y) \n"
   ]
  },
  {
   "cell_type": "code",
   "execution_count": 26,
   "metadata": {},
   "outputs": [],
   "source": [
    "word_frequency_swap_agile_no_stop = word_frequency_agile_no_stop.map(lambda x: (x[1],x[0]))\n",
    "word_sorted_agile_no_stop = word_frequency_swap_agile_no_stop.sortByKey(0,1)\n",
    "word_list_agile_no_stop = word_sorted_agile_no_stop.collect()"
   ]
  },
  {
   "cell_type": "code",
   "execution_count": 27,
   "metadata": {},
   "outputs": [],
   "source": [
    "import matplotlib.pyplot as plt\n",
    "import math\n",
    "x_agile = []\n",
    "y_agile = []\n",
    "for i in word_list_agile_no_stop:\n",
    "    x_agile.append(i[0])\n",
    "    y_agile.append(i[1])\n"
   ]
  },
  {
   "cell_type": "markdown",
   "metadata": {},
   "source": [
    "### Task2: Getting the Data for Book2 or Scrum:"
   ]
  },
  {
   "cell_type": "markdown",
   "metadata": {},
   "source": [
    "Now we find the word frequency for Book 2 or Scrum file for using it to plot a word distribution"
   ]
  },
  {
   "cell_type": "code",
   "execution_count": 28,
   "metadata": {},
   "outputs": [],
   "source": [
    "# this code is to split all the words and then find the occurences of each of the words\n",
    "\n",
    "tokenized_scrum = scrum_no_stop.flatMap(lambda line: line.split(\" \"))\\\n",
    ".filter(lambda words: words != '' )\n",
    "\n",
    "# Extract the first word of each line (the log level) and do a count\n",
    "word_frequency_scrum = tokenized_scrum.map(lambda words: (words,1))\\\n",
    ".reduceByKey(lambda x,y: x+y) \n"
   ]
  },
  {
   "cell_type": "code",
   "execution_count": 29,
   "metadata": {},
   "outputs": [],
   "source": [
    "word_frequency_swap_scrum = word_frequency_scrum.map(lambda x: (x[1],x[0]))\n",
    "word_sorted_scrum = word_frequency_swap_scrum.sortByKey(0,1)\n",
    "word_list_scrum_no_stop = word_sorted_scrum.collect()"
   ]
  },
  {
   "cell_type": "code",
   "execution_count": 30,
   "metadata": {},
   "outputs": [],
   "source": [
    "import matplotlib.pyplot as plt\n",
    "import math\n",
    "x_scrum = []\n",
    "y_scrum = []\n",
    "for i in word_list_scrum_no_stop:\n",
    "    x_scrum.append(i[0])\n",
    "    y_scrum.append(i[1])\n"
   ]
  },
  {
   "cell_type": "markdown",
   "metadata": {},
   "source": [
    "### Now the word distribution plot for both the Books is as follows:"
   ]
  },
  {
   "cell_type": "markdown",
   "metadata": {},
   "source": [
    "As given in the assignment specification we are comparing the distribution of words in Book1 and Book2. As specified in the assignment specification a log scale has to be used to plot the graph. Thus in this assignment a semilog graph is being used for this task."
   ]
  },
  {
   "cell_type": "code",
   "execution_count": 31,
   "metadata": {},
   "outputs": [
    {
     "data": {
      "text/plain": [
       "<matplotlib.legend.Legend at 0x1a237749b0>"
      ]
     },
     "execution_count": 31,
     "metadata": {},
     "output_type": "execute_result"
    },
    {
     "data": {
      "image/png": "[encoded data removed]",
      "text/plain": [
       "<Figure size 720x720 with 1 Axes>"
      ]
     },
     "metadata": {
      "needs_background": "light"
     },
     "output_type": "display_data"
    }
   ],
   "source": [
    "plt.figure(figsize=(10,10))\n",
    "plt.title(\"Exploratory Data Analysis of Word Distribution\")\n",
    "plt.semilogy(sorted(x_scrum, reverse= True))\n",
    "plt.semilogy(sorted(x_agile, reverse=True))\n",
    "plt.gca().legend(('BOOK1 - Scrum','BOOK2 - Agile'))"
   ]
  },
  {
   "cell_type": "markdown",
   "metadata": {},
   "source": [
    "***Inferences from the above plot***\n",
    "\n",
    "In a semilog graph one axis will have logarithmic scale and the other axis will have a linear scale. As we can see from the plot we can see that both the books have a very similar plot hence they have a very similar distribution of words."
   ]
  },
  {
   "cell_type": "markdown",
   "metadata": {},
   "source": [
    "### Comparision of 15 most common words which are occuring in both the files"
   ]
  },
  {
   "cell_type": "markdown",
   "metadata": {},
   "source": [
    "Now in this part of the code we do a bar plot for the 15 most common occuring words and we do it side by side so that it would be easy to compare the plots for Agile and Scrum datasets."
   ]
  },
  {
   "cell_type": "markdown",
   "metadata": {},
   "source": [
    "We use a standard consept of matplotlib called subplot. Using the subplot we can align and arrange multiple plots in a single plot which would make it easier for comparision."
   ]
  },
  {
   "cell_type": "code",
   "execution_count": 32,
   "metadata": {},
   "outputs": [
    {
     "data": {
      "text/plain": [
       "<BarContainer object of 15 artists>"
      ]
     },
     "execution_count": 32,
     "metadata": {},
     "output_type": "execute_result"
    },
    {
     "data": {
      "image/png": "[encoded data removed]",
      "text/plain": [
       "<Figure size 1080x720 with 2 Axes>"
      ]
     },
     "metadata": {
      "needs_background": "light"
     },
     "output_type": "display_data"
    }
   ],
   "source": [
    "plt.figure(figsize=(15,10))\n",
    "\n",
    "plt.subplot(1,3,1)\n",
    "plt.title(\"Exploratory Data Analysis for Agile file- BOOK1\")\n",
    "plt.xlabel(\"Log of occurences of the word\")\n",
    "plt.ylabel(\"Words\")\n",
    "plt.barh(y_agile[:15],x_agile[:15],0.7, color = 'red')\n",
    "\n",
    "\n",
    "\n",
    "plt.subplot(1,3,3)\n",
    "plt.title(\"Exploratory Data Analysis for Scrum file- BOOK2\")\n",
    "plt.xlabel(\"Log of occurences of the word\")\n",
    "plt.ylabel(\"Words\")\n",
    "plt.barh(y_scrum[:15],x_scrum[:15],0.7)\n"
   ]
  },
  {
   "cell_type": "markdown",
   "metadata": {},
   "source": [
    "The above plot is comparision of 15 most common words in the 2 books. From this plot we can see that the occurences of words in the Book1 is much higher than the occurences of words in Book2. Take for example the top most occuring work in Book1 is software which occurs around 900 times and the top most occuring word in Book2 is scrum which occurs around 400 times.\n",
    "\n",
    "The 3 top most occuring words in Book1 is:\n",
    "* software\n",
    "* agile\n",
    "* development\n",
    "\n",
    "The 3 top most occuring words in Book2 is:\n",
    "* scrum\n",
    "* team\n",
    "* product"
   ]
  },
  {
   "cell_type": "markdown",
   "metadata": {},
   "source": [
    "## References used:"
   ]
  },
  {
   "cell_type": "markdown",
   "metadata": {},
   "source": [
    "some codes from Monash University Lecture 2,3,4 has been used for this assignment. "
   ]
  }
 ],
 "metadata": {
  "kernelspec": {
   "display_name": "Python 2",
   "language": "python",
   "name": "python2"
  },
  "language_info": {
   "codemirror_mode": {
    "name": "ipython",
    "version": 3
   },
   "file_extension": ".py",
   "mimetype": "text/x-python",
   "name": "python",
   "nbconvert_exporter": "python",
   "pygments_lexer": "ipython3",
   "version": "3.7.3"
  }
 },
 "nbformat": 4,
 "nbformat_minor": 2
}
